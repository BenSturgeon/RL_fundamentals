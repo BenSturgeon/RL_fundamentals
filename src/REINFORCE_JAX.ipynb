{
 "cells": [
  {
   "cell_type": "code",
   "execution_count": 3,
   "metadata": {},
   "outputs": [
    {
     "name": "stdout",
     "output_type": "stream",
     "text": [
      "test\n"
     ]
    },
    {
     "ename": "AssertionError",
     "evalue": "Array(0, dtype=int32) (<class 'jaxlib.xla_extension.ArrayImpl'>) invalid ",
     "output_type": "error",
     "traceback": [
      "\u001b[0;31m---------------------------------------------------------------------------\u001b[0m",
      "\u001b[0;31mAssertionError\u001b[0m                            Traceback (most recent call last)",
      "Cell \u001b[0;32mIn[3], line 89\u001b[0m\n\u001b[1;32m     86\u001b[0m         \u001b[39mreturn\u001b[39;00m loss, grads\n\u001b[1;32m     88\u001b[0m agent \u001b[39m=\u001b[39m Agent(env)\n\u001b[0;32m---> 89\u001b[0m agent\u001b[39m.\u001b[39;49mtrain(\u001b[39m0.99\u001b[39;49m, \u001b[39m200\u001b[39;49m)\n",
      "Cell \u001b[0;32mIn[3], line 58\u001b[0m, in \u001b[0;36mAgent.train\u001b[0;34m(self, gamma, num_episodes)\u001b[0m\n\u001b[1;32m     56\u001b[0m \u001b[39mwhile\u001b[39;00m \u001b[39mnot\u001b[39;00m done:\n\u001b[1;32m     57\u001b[0m     action \u001b[39m=\u001b[39m \u001b[39mself\u001b[39m\u001b[39m.\u001b[39mget_distribution(jnp\u001b[39m.\u001b[39marray(state), params)\n\u001b[0;32m---> 58\u001b[0m     state, reward, done, _ , _\u001b[39m=\u001b[39m \u001b[39mself\u001b[39;49m\u001b[39m.\u001b[39;49menv\u001b[39m.\u001b[39;49mstep(action)\n\u001b[1;32m     60\u001b[0m     \u001b[39mself\u001b[39m\u001b[39m.\u001b[39mrewards\u001b[39m.\u001b[39mappend(reward)\n\u001b[1;32m     61\u001b[0m     \u001b[39mself\u001b[39m\u001b[39m.\u001b[39mactions\u001b[39m.\u001b[39mappend(action)\n",
      "File \u001b[0;32m~/miniconda3/envs/jax/lib/python3.11/site-packages/gymnasium/wrappers/time_limit.py:57\u001b[0m, in \u001b[0;36mTimeLimit.step\u001b[0;34m(self, action)\u001b[0m\n\u001b[1;32m     46\u001b[0m \u001b[39mdef\u001b[39;00m \u001b[39mstep\u001b[39m(\u001b[39mself\u001b[39m, action):\n\u001b[1;32m     47\u001b[0m \u001b[39m    \u001b[39m\u001b[39m\"\"\"Steps through the environment and if the number of steps elapsed exceeds ``max_episode_steps`` then truncate.\u001b[39;00m\n\u001b[1;32m     48\u001b[0m \n\u001b[1;32m     49\u001b[0m \u001b[39m    Args:\u001b[39;00m\n\u001b[0;32m   (...)\u001b[0m\n\u001b[1;32m     55\u001b[0m \n\u001b[1;32m     56\u001b[0m \u001b[39m    \"\"\"\u001b[39;00m\n\u001b[0;32m---> 57\u001b[0m     observation, reward, terminated, truncated, info \u001b[39m=\u001b[39m \u001b[39mself\u001b[39;49m\u001b[39m.\u001b[39;49menv\u001b[39m.\u001b[39;49mstep(action)\n\u001b[1;32m     58\u001b[0m     \u001b[39mself\u001b[39m\u001b[39m.\u001b[39m_elapsed_steps \u001b[39m+\u001b[39m\u001b[39m=\u001b[39m \u001b[39m1\u001b[39m\n\u001b[1;32m     60\u001b[0m     \u001b[39mif\u001b[39;00m \u001b[39mself\u001b[39m\u001b[39m.\u001b[39m_elapsed_steps \u001b[39m>\u001b[39m\u001b[39m=\u001b[39m \u001b[39mself\u001b[39m\u001b[39m.\u001b[39m_max_episode_steps:\n",
      "File \u001b[0;32m~/miniconda3/envs/jax/lib/python3.11/site-packages/gymnasium/wrappers/order_enforcing.py:56\u001b[0m, in \u001b[0;36mOrderEnforcing.step\u001b[0;34m(self, action)\u001b[0m\n\u001b[1;32m     54\u001b[0m \u001b[39mif\u001b[39;00m \u001b[39mnot\u001b[39;00m \u001b[39mself\u001b[39m\u001b[39m.\u001b[39m_has_reset:\n\u001b[1;32m     55\u001b[0m     \u001b[39mraise\u001b[39;00m ResetNeeded(\u001b[39m\"\u001b[39m\u001b[39mCannot call env.step() before calling env.reset()\u001b[39m\u001b[39m\"\u001b[39m)\n\u001b[0;32m---> 56\u001b[0m \u001b[39mreturn\u001b[39;00m \u001b[39mself\u001b[39;49m\u001b[39m.\u001b[39;49menv\u001b[39m.\u001b[39;49mstep(action)\n",
      "File \u001b[0;32m~/miniconda3/envs/jax/lib/python3.11/site-packages/gymnasium/wrappers/env_checker.py:47\u001b[0m, in \u001b[0;36mPassiveEnvChecker.step\u001b[0;34m(self, action)\u001b[0m\n\u001b[1;32m     45\u001b[0m \u001b[39mif\u001b[39;00m \u001b[39mself\u001b[39m\u001b[39m.\u001b[39mchecked_step \u001b[39mis\u001b[39;00m \u001b[39mFalse\u001b[39;00m:\n\u001b[1;32m     46\u001b[0m     \u001b[39mself\u001b[39m\u001b[39m.\u001b[39mchecked_step \u001b[39m=\u001b[39m \u001b[39mTrue\u001b[39;00m\n\u001b[0;32m---> 47\u001b[0m     \u001b[39mreturn\u001b[39;00m env_step_passive_checker(\u001b[39mself\u001b[39;49m\u001b[39m.\u001b[39;49menv, action)\n\u001b[1;32m     48\u001b[0m \u001b[39melse\u001b[39;00m:\n\u001b[1;32m     49\u001b[0m     \u001b[39mreturn\u001b[39;00m \u001b[39mself\u001b[39m\u001b[39m.\u001b[39menv\u001b[39m.\u001b[39mstep(action)\n",
      "File \u001b[0;32m~/miniconda3/envs/jax/lib/python3.11/site-packages/gymnasium/utils/passive_env_checker.py:237\u001b[0m, in \u001b[0;36menv_step_passive_checker\u001b[0;34m(env, action)\u001b[0m\n\u001b[1;32m    235\u001b[0m \u001b[39m\u001b[39m\u001b[39m\"\"\"A passive check for the environment step, investigating the returning data then returning the data unchanged.\"\"\"\u001b[39;00m\n\u001b[1;32m    236\u001b[0m \u001b[39m# We don't check the action as for some environments then out-of-bounds values can be given\u001b[39;00m\n\u001b[0;32m--> 237\u001b[0m result \u001b[39m=\u001b[39m env\u001b[39m.\u001b[39;49mstep(action)\n\u001b[1;32m    238\u001b[0m \u001b[39massert\u001b[39;00m \u001b[39misinstance\u001b[39m(\n\u001b[1;32m    239\u001b[0m     result, \u001b[39mtuple\u001b[39m\n\u001b[1;32m    240\u001b[0m ), \u001b[39mf\u001b[39m\u001b[39m\"\u001b[39m\u001b[39mExpects step result to be a tuple, actual type: \u001b[39m\u001b[39m{\u001b[39;00m\u001b[39mtype\u001b[39m(result)\u001b[39m}\u001b[39;00m\u001b[39m\"\u001b[39m\n\u001b[1;32m    241\u001b[0m \u001b[39mif\u001b[39;00m \u001b[39mlen\u001b[39m(result) \u001b[39m==\u001b[39m \u001b[39m4\u001b[39m:\n",
      "File \u001b[0;32m~/miniconda3/envs/jax/lib/python3.11/site-packages/gymnasium/envs/box2d/lunar_lander.py:524\u001b[0m, in \u001b[0;36mLunarLander.step\u001b[0;34m(self, action)\u001b[0m\n\u001b[1;32m    522\u001b[0m     action \u001b[39m=\u001b[39m np\u001b[39m.\u001b[39mclip(action, \u001b[39m-\u001b[39m\u001b[39m1\u001b[39m, \u001b[39m+\u001b[39m\u001b[39m1\u001b[39m)\u001b[39m.\u001b[39mastype(np\u001b[39m.\u001b[39mfloat32)\n\u001b[1;32m    523\u001b[0m \u001b[39melse\u001b[39;00m:\n\u001b[0;32m--> 524\u001b[0m     \u001b[39massert\u001b[39;00m \u001b[39mself\u001b[39m\u001b[39m.\u001b[39maction_space\u001b[39m.\u001b[39mcontains(\n\u001b[1;32m    525\u001b[0m         action\n\u001b[1;32m    526\u001b[0m     ), \u001b[39mf\u001b[39m\u001b[39m\"\u001b[39m\u001b[39m{\u001b[39;00maction\u001b[39m!r}\u001b[39;00m\u001b[39m (\u001b[39m\u001b[39m{\u001b[39;00m\u001b[39mtype\u001b[39m(action)\u001b[39m}\u001b[39;00m\u001b[39m) invalid \u001b[39m\u001b[39m\"\u001b[39m\n\u001b[1;32m    528\u001b[0m \u001b[39m# Apply Engine Impulses\u001b[39;00m\n\u001b[1;32m    529\u001b[0m \n\u001b[1;32m    530\u001b[0m \u001b[39m# Tip is a the (X and Y) components of the rotation of the lander.\u001b[39;00m\n\u001b[1;32m    531\u001b[0m tip \u001b[39m=\u001b[39m (math\u001b[39m.\u001b[39msin(\u001b[39mself\u001b[39m\u001b[39m.\u001b[39mlander\u001b[39m.\u001b[39mangle), math\u001b[39m.\u001b[39mcos(\u001b[39mself\u001b[39m\u001b[39m.\u001b[39mlander\u001b[39m.\u001b[39mangle))\n",
      "\u001b[0;31mAssertionError\u001b[0m: Array(0, dtype=int32) (<class 'jaxlib.xla_extension.ArrayImpl'>) invalid "
     ]
    }
   ],
   "source": [
    "print(\"test\")\n",
    "import jax\n",
    "import jax.numpy as jnp\n",
    "from jax import random, grad, vmap\n",
    "from flax import linen as nn\n",
    "import optax\n",
    "\n",
    "import gymnasium as gym\n",
    "\n",
    "env = gym.make(\n",
    "    \"LunarLander-v2\",\n",
    "    continuous = False,\n",
    "    gravity = -10.0,\n",
    "    enable_wind = False,\n",
    "    wind_power = 15.0,\n",
    "    turbulence_power = 1.5\n",
    "    # render_mode=\"rgb_array\"\n",
    ")\n",
    "\n",
    "class FCN(nn.Module):\n",
    "    n_observations: int\n",
    "    n_actions: int\n",
    "    fc1_dims: int = 256\n",
    "    fc2_dims: int = 256\n",
    "\n",
    "    def setup(self):\n",
    "        self.layer1 = nn.Dense(self.fc1_dims)\n",
    "        self.layer2 = nn.Dense(self.fc2_dims)\n",
    "        self.layer3 = nn.Dense(self.n_actions)\n",
    "\n",
    "    def __call__(self, x):\n",
    "        x = nn.relu(self.layer1(x))\n",
    "        x = nn.relu(self.layer2(x))\n",
    "        logits = self.layer3(x)\n",
    "        return logits  # Changed softmax to logits here.\n",
    "\n",
    "class Agent():\n",
    "    def __init__(self, env):\n",
    "        self.network = FCN(env.observation_space.shape[0], env.action_space.n)\n",
    "        self.optimizer = optax.adam(0.01)\n",
    "        self.rewards = []\n",
    "        self.actions = []\n",
    "        self.env = env\n",
    "\n",
    "    def get_distribution(self, state, params):\n",
    "        logits = self.network.apply(params, state)\n",
    "        return jax.random.categorical(jax.random.PRNGKey(0), logits)\n",
    "\n",
    "    def train(self, gamma, num_episodes):\n",
    "        params = self.network.init(jax.random.PRNGKey(0), jnp.ones((self.env.observation_space.shape[0],)))\n",
    "\n",
    "        for episode in range(num_episodes):\n",
    "            state, _ = self.env.reset()\n",
    "            done = False\n",
    "\n",
    "            while not done:\n",
    "                action = self.get_distribution(jnp.array(state), params)\n",
    "                state, reward, done, _ , _= self.env.step(action)\n",
    "\n",
    "                self.rewards.append(reward)\n",
    "                self.actions.append(action)\n",
    "\n",
    "            loss_value, grads = self.update_policy(params, gamma)\n",
    "            updates, _ = self.optimizer.update(grads, params)\n",
    "            params = optax.apply_updates(params, updates)\n",
    "\n",
    "            if episode % 50 == 0:\n",
    "                print(f\"Completed episode {episode} and achieved score {sum(self.rewards)}\")\n",
    "\n",
    "    def update_policy(self, params, gamma):\n",
    "        total_future_rewards = []\n",
    "        total_future_reward = 0\n",
    "\n",
    "        for reward in self.rewards[::-1]:\n",
    "            total_future_reward = total_future_reward * gamma + reward\n",
    "            total_future_rewards.append(total_future_reward)\n",
    "\n",
    "        returns = jnp.array(total_future_rewards[::-1])\n",
    "        returns = (returns - returns.mean()) / (returns.std() + 1e-9)\n",
    "\n",
    "        actions_onehot = jnp.array([onehot(a, self.env.action_space.n) for a in self.actions])\n",
    "        log_probs = jnp.sum(jnp.log(self.network.apply(params, jnp.ones((1, self.env.observation_space.shape[0])))) * actions_onehot, axis=1)\n",
    "        loss = -jnp.mean(returns * log_probs)\n",
    "        grads = grad(loss)(params)\n",
    "\n",
    "        return loss, grads\n",
    "\n",
    "agent = Agent(env)\n",
    "agent.train(0.99, 200)"
   ]
  },
  {
   "cell_type": "code",
   "execution_count": null,
   "metadata": {},
   "outputs": [],
   "source": []
  }
 ],
 "metadata": {
  "kernelspec": {
   "display_name": "jax_kernel",
   "language": "python",
   "name": "jax"
  },
  "language_info": {
   "codemirror_mode": {
    "name": "ipython",
    "version": 3
   },
   "file_extension": ".py",
   "mimetype": "text/x-python",
   "name": "python",
   "nbconvert_exporter": "python",
   "pygments_lexer": "ipython3",
   "version": "3.11.4"
  },
  "orig_nbformat": 4,
  "vscode": {
   "interpreter": {
    "hash": "dd21a57e4fd92262eb0452f059baab566dea59e951fa62645d98860e4237e4f7"
   }
  }
 },
 "nbformat": 4,
 "nbformat_minor": 2
}
